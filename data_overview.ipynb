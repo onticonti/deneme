{
 "cells": [
  {
   "cell_type": "markdown",
   "metadata": {
    "slideshow": {
     "slide_type": "-"
    }
   },
   "source": [
    "# 🚨COVID ALERT!🚨\n",
    "## Building a webapp for identifying nearby hospitals\n",
    "### Follow along at [bit.ly/dc-python-st](https://bit.ly/dc-python-st) (Github)\n",
    "\n",
    "<img src=\"https://fems.dc.gov/sites/default/files/dc/sites/fems/agency_content/images/Ambo%20Action%20Photo.png\" width=500 />"
   ]
  },
  {
   "cell_type": "markdown",
   "metadata": {},
   "source": [
    "## Agenda\n",
    "1. Let's get some data\n",
    "1. Let's explore that data the boring old way (Pandas)\n",
    "1. Let's build a local webapp using StreamLit\n",
    "1. (Time dependent) Let's deploy that webapp using Heroku\n",
    "\n",
    "## Prerequisites\n",
    "1. You know a little Python & Jupyter/IPython\n",
    "1. You know a little Pandas\n",
    "1. You know a little git\n",
    "1. You have a Heroku account (heroku.com) and have [Heroku CLI](https://devcenter.heroku.com/articles/heroku-cli#download-and-install) installed"
   ]
  },
  {
   "cell_type": "markdown",
   "metadata": {},
   "source": [
    "To start: Let's quickly explore the data, found from [DC Open Data](https://opendata.dc.gov/datasets/primary-care-centers-2/data)"
   ]
  },
  {
   "cell_type": "code",
   "execution_count": null,
   "metadata": {},
   "outputs": [],
   "source": [
    "import pandas as pd\n",
    "\n",
    "df = pd.read_csv('https://opendata.arcgis.com/datasets/018890d7399245759f05c7932261ef44_7.csv')\n",
    "\n",
    "df.head()"
   ]
  },
  {
   "cell_type": "markdown",
   "metadata": {},
   "source": [
    "Let's get a count of hospitals by ward, and maybe a quick bar chart"
   ]
  },
  {
   "cell_type": "code",
   "execution_count": null,
   "metadata": {},
   "outputs": [],
   "source": [
    "df.PrimaryCarePtWARD.value_counts()"
   ]
  },
  {
   "cell_type": "code",
   "execution_count": null,
   "metadata": {},
   "outputs": [],
   "source": [
    "%matplotlib inline\n",
    "df.PrimaryCarePtWARD.value_counts().plot.bar()"
   ]
  },
  {
   "cell_type": "code",
   "execution_count": null,
   "metadata": {},
   "outputs": [],
   "source": [
    "df.plot.scatter(x='X', y='Y')"
   ]
  },
  {
   "cell_type": "markdown",
   "metadata": {},
   "source": [
    "### Great! Now let's build our webapp"
   ]
  }
 ],
 "metadata": {
  "kernelspec": {
   "display_name": "Python 3",
   "language": "python",
   "name": "python3"
  },
  "language_info": {
   "codemirror_mode": {
    "name": "ipython",
    "version": 3
   },
   "file_extension": ".py",
   "mimetype": "text/x-python",
   "name": "python",
   "nbconvert_exporter": "python",
   "pygments_lexer": "ipython3",
   "version": "3.7.4"
  }
 },
 "nbformat": 4,
 "nbformat_minor": 2
}
